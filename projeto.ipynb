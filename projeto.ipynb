{
 "cells": [
  {
   "cell_type": "code",
   "execution_count": 1,
   "id": "a6bdee68",
   "metadata": {},
   "outputs": [],
   "source": [
    "import pytesseract\n",
    "pytesseract.pytesseract.tesseract_cmd = r'C:\\Program Files\\Tesseract-OCR\\tesseract.exe'  # ajuste se o caminho for diferente"
   ]
  },
  {
   "cell_type": "code",
   "execution_count": 2,
   "id": "2b00ca96",
   "metadata": {},
   "outputs": [
    {
     "name": "stdout",
     "output_type": "stream",
     "text": [
      "C:\\Users\\niton\\AppData\\Local\\Microsoft\\WindowsApps\\PythonSoftwareFoundation.Python.3.12_qbz5n2kfra8p0\\python.exe\n"
     ]
    }
   ],
   "source": [
    "import sys\n",
    "print(sys.executable)"
   ]
  },
  {
   "cell_type": "code",
   "execution_count": 8,
   "id": "54d72c3a",
   "metadata": {},
   "outputs": [
    {
     "name": "stderr",
     "output_type": "stream",
     "text": [
      "[nltk_data] Downloading package punkt to\n",
      "[nltk_data]     C:\\Users\\niton\\AppData\\Roaming\\nltk_data...\n",
      "[nltk_data]   Package punkt is already up-to-date!\n",
      "[nltk_data] Downloading package punkt_tab to\n",
      "[nltk_data]     C:\\Users\\niton\\AppData\\Roaming\\nltk_data...\n",
      "[nltk_data]   Unzipping tokenizers\\punkt_tab.zip.\n"
     ]
    },
    {
     "name": "stdout",
     "output_type": "stream",
     "text": [
      "['Olá!', 'Isto é um teste.', 'Vamos ver se funciona.']\n"
     ]
    }
   ],
   "source": [
    "import nltk\n",
    "nltk.download('punkt')\n",
    "nltk.download('punkt_tab')\n",
    "import nltk.data\n",
    "tokenizer = nltk.data.load('tokenizers/punkt/portuguese.pickle')\n",
    "print(tokenizer.tokenize(\"Olá! Isto é um teste. Vamos ver se funciona.\"))"
   ]
  },
  {
   "cell_type": "code",
   "execution_count": 9,
   "id": "3d9edfcf",
   "metadata": {},
   "outputs": [
    {
     "name": "stdout",
     "output_type": "stream",
     "text": [
      "\n"
     ]
    }
   ],
   "source": [
    "import os\n",
    "os.environ['TESSDATA_PREFIX'] = r'C:\\Program Files\\Tesseract-OCR\\tessdata'\n",
    "import pytesseract\n",
    "pytesseract.pytesseract.tesseract_cmd = r'C:\\Program Files\\Tesseract-OCR\\tesseract.exe'\n",
    "\n",
    "from PIL import Image\n",
    "img = Image.new('RGB', (300, 50), color = (255, 255, 255))\n",
    "# Vai tentar rodar OCR em branco, só pra testar o idioma\n",
    "print(pytesseract.image_to_string(img, lang='por'))"
   ]
  },
  {
   "cell_type": "code",
   "execution_count": 10,
   "id": "c36f2edc",
   "metadata": {},
   "outputs": [
    {
     "name": "stderr",
     "output_type": "stream",
     "text": [
      "[nltk_data] Downloading package punkt to\n",
      "[nltk_data]     C:\\Users\\niton\\AppData\\Roaming\\nltk_data...\n",
      "[nltk_data]   Package punkt is already up-to-date!\n",
      "[nltk_data] Downloading package punkt_tab to\n",
      "[nltk_data]     C:\\Users\\niton\\AppData\\Roaming\\nltk_data...\n",
      "[nltk_data]   Package punkt_tab is already up-to-date!\n",
      "[nltk_data] Downloading package punkt to\n",
      "[nltk_data]     C:\\Users\\niton\\AppData\\Roaming\\nltk_data...\n",
      "[nltk_data]   Package punkt is already up-to-date!\n"
     ]
    },
    {
     "name": "stdout",
     "output_type": "stream",
     "text": [
      "\n",
      "Processando: download.pdf | Tipo: application/pdf\n",
      "\n",
      "Processando: métodos analíticos em Keynes_Silva ME.pdf | Tipo: application/pdf\n",
      "\n",
      "Processando: projeto.ipynb | Tipo: None\n",
      "\n",
      "--- Texto completo extraído dos arquivos ---\n",
      "\n",
      "\n",
      "[PDF Texto: download.pdf]\n",
      "Reflexões sobre o método em Keynes\n",
      "Reflections on the method of Keynes\n",
      "Fernando Ferrari Filho \n",
      "Fábio Henrique Bittes Terra*\n",
      "resumo: Provavelmente, a questão do método seja uma das mais controvertidas discussões \n",
      "relacionadas à obra de Keynes. As controvérsias podem ser resumidas em três principais \n",
      "linhas: (i) o atomismo ou o organicismo como unidade de análise econômica de Keynes; \n",
      "(ii) a continuidade ou a descontinuidade das bases filosóficas, em termos epistemológicos e \n",
      "metodológicos, do pensamento de Keynes; e (iii) a especulação acerca do método científico \n",
      "utilizado por Keynes. O objetivo do artigo centra-se na última das linhas da controvérsia, \n",
      "qual seja, discutir o método científico na obra de Keynes. Subjacente a tal objetivo, apesar \n",
      "dos indícios de que o método do autor está relacionado tanto ao indutivo quanto ao \n",
      "histórico-indutivo, explorar-se-á o primeiro método, uma vez que, por um lado, ele diz \n",
      "respeito à teoria do conhecimento (epistemolo\n",
      "\n",
      "--- RESUMO FINAL ---\n",
      "\n",
      "As diversas interpretações sobre o método de Keynes Como mostram Hegenberg (1976), Caldwell (1989) e Blaug (1999), vários são os métodos utilizados na busca pelo conhecimento.\n",
      "À enumeração das evidências, Keynes chama indução pura, ao passo que da soma dela com a analogia tem-se o método indutivo.\n",
      "Não obstante, a crítica de Keynes ao método empregado por Ricardo e seus seguidores é uma constante na GT: Ricardo oferece-nos a suprema realização intelectual, inalcançável aos espíritos fracos, adotando um mundo hipotético distante da expe- riência como se fosse o mundo da experiência e, então, nele vivendo consistentemente.\n",
      "Linha semelhante segue Eichner (1984, p. 192), para quem a teorização deve “explicar o conjunto de fenômenos empiricamente observáveis (que, no contexto social, são os acontecimentos históricos do mundo real)”.\n",
      "Estas contribuições podem ser sintetizadas como método histórico-indutivo, cuja ideia consiste em capturar, ao longo do tempo histórico, as evidências obser- Bra\n"
     ]
    }
   ],
   "source": [
    "import nltk\n",
    "nltk.download('punkt')\n",
    "nltk.download('punkt_tab')\n",
    "import nltk\n",
    "nltk.download('punkt')\n",
    "import os\n",
    "import mimetypes\n",
    "from pydub import AudioSegment\n",
    "import whisper\n",
    "import fitz  # PyMuPDF\n",
    "from pdf2image import convert_from_path\n",
    "import pytesseract\n",
    "from sumy.parsers.plaintext import PlaintextParser\n",
    "from sumy.nlp.tokenizers import Tokenizer\n",
    "from sumy.summarizers.lsa import LsaSummarizer\n",
    "\n",
    "# Configurações específicas para Windows:\n",
    "pytesseract.pytesseract.tesseract_cmd = r'C:\\Program Files\\Tesseract-OCR\\tesseract.exe'\n",
    "POPPLER_PATH = r'C:\\poppler\\bin'  # ajuste conforme sua instalação\n",
    "\n",
    "whisper_model = whisper.load_model(\"base\")\n",
    "\n",
    "def transcrever_audio_m4a(path):\n",
    "    wav_path = path.replace('.m4a', '.wav')\n",
    "    audio = AudioSegment.from_file(path, format=\"m4a\")\n",
    "    audio.export(wav_path, format=\"wav\")\n",
    "    result = whisper_model.transcribe(wav_path, language=\"portuguese\")\n",
    "    os.remove(wav_path)\n",
    "    return result[\"text\"]\n",
    "\n",
    "def extrair_texto_pdf(path):\n",
    "    doc = fitz.open(path)\n",
    "    texto = \"\"\n",
    "    for page in doc:\n",
    "        texto += page.get_text()\n",
    "    doc.close()\n",
    "    return texto\n",
    "\n",
    "def extrair_texto_pdf_ocr(path):\n",
    "    pages = convert_from_path(path, poppler_path=POPPLER_PATH)\n",
    "    texto_total = \"\"\n",
    "    for i, page in enumerate(pages):\n",
    "        texto = pytesseract.image_to_string(page, lang='por')\n",
    "        texto_total += f\"\\n--- Página {i+1} ---\\n\"\n",
    "        texto_total += texto\n",
    "    return texto_total\n",
    "\n",
    "def resumir_texto(texto, num_sentencas=5):\n",
    "    parser = PlaintextParser.from_string(texto, Tokenizer(\"portuguese\"))\n",
    "    summarizer = LsaSummarizer()\n",
    "    summary = summarizer(parser.document, num_sentencas)\n",
    "    return \"\\n\".join(str(sentence) for sentence in summary)\n",
    "\n",
    "def arquivo_pdf_tem_texto(path):\n",
    "    doc = fitz.open(path)\n",
    "    for page in doc:\n",
    "        if page.get_text().strip():\n",
    "            doc.close()\n",
    "            return True\n",
    "    doc.close()\n",
    "    return False\n",
    "\n",
    "def processar_pasta(pasta):\n",
    "    todos_textos = []\n",
    "    for arquivo in os.listdir(pasta):\n",
    "        caminho = os.path.join(pasta, arquivo)\n",
    "        if not os.path.isfile(caminho):\n",
    "            continue\n",
    "\n",
    "        tipo, _ = mimetypes.guess_type(caminho)\n",
    "        print(f\"\\nProcessando: {arquivo} | Tipo: {tipo}\")\n",
    "\n",
    "        # Áudio m4a\n",
    "        if arquivo.lower().endswith('.m4a'):\n",
    "            texto = transcrever_audio_m4a(caminho)\n",
    "            todos_textos.append(f\"\\n[Áudio: {arquivo}]\\n{texto}\")\n",
    "\n",
    "        # PDF\n",
    "        elif arquivo.lower().endswith('.pdf'):\n",
    "            if arquivo_pdf_tem_texto(caminho):\n",
    "                texto = extrair_texto_pdf(caminho)\n",
    "                todos_textos.append(f\"\\n[PDF Texto: {arquivo}]\\n{texto}\")\n",
    "            else:\n",
    "                texto = extrair_texto_pdf_ocr(caminho)\n",
    "                todos_textos.append(f\"\\n[PDF Imagem: {arquivo}]\\n{texto}\")\n",
    "\n",
    "    return \"\\n\".join(todos_textos)\n",
    "\n",
    "if __name__ == \"__main__\":\n",
    "    pasta = input(\"Digite o caminho da pasta: \").strip()\n",
    "    textos_extraidos = processar_pasta(pasta)\n",
    "    print(\"\\n--- Texto completo extraído dos arquivos ---\\n\")\n",
    "    print(textos_extraidos[:1000])  # Mostra só os 1000 primeiros caracteres\n",
    "\n",
    "    print(\"\\n--- RESUMO FINAL ---\\n\")\n",
    "    resumo = resumir_texto(textos_extraidos, num_sentencas=8)\n",
    "    print(resumo[:1000])\n",
    "\n",
    "    with open(\"texto_extraido.txt\", \"w\", encoding=\"utf-8\") as f:\n",
    "        f.write(textos_extraidos)\n",
    "    with open(\"resumo_final.txt\", \"w\", encoding=\"utf-8\") as f:\n",
    "        f.write(resumo)"
   ]
  },
  {
   "cell_type": "markdown",
   "id": "a99fb102",
   "metadata": {},
   "source": [
    "1 - instalar phyton abaixo da versão 13\n",
    "2 - baixar tesseract e FFmpeg\n",
    "3 - verificar onde o python está instalado na máquina:\n",
    "        import sys\n",
    "        print(sys.executable)\n",
    "4 - pip install pydub openai-whisper pymupdf pdf2image pytesseract pillow sumy dentro do python que está rodando\n",
    "5 - rodar o código (torcer p dar certo)"
   ]
  }
 ],
 "metadata": {
  "kernelspec": {
   "display_name": "Python 3",
   "language": "python",
   "name": "python3"
  },
  "language_info": {
   "codemirror_mode": {
    "name": "ipython",
    "version": 3
   },
   "file_extension": ".py",
   "mimetype": "text/x-python",
   "name": "python",
   "nbconvert_exporter": "python",
   "pygments_lexer": "ipython3",
   "version": "3.12.10"
  }
 },
 "nbformat": 4,
 "nbformat_minor": 5
}
